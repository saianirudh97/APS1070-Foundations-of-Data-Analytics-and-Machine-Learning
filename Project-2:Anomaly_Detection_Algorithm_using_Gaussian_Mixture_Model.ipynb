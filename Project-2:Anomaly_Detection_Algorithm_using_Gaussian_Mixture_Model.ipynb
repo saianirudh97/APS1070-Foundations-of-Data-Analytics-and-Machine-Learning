{
  "nbformat": 4,
  "nbformat_minor": 0,
  "metadata": {
    "kernelspec": {
      "name": "python3",
      "display_name": "Python 3"
    },
    "language_info": {
      "codemirror_mode": {
        "name": "ipython",
        "version": 3
      },
      "file_extension": ".py",
      "mimetype": "text/x-python",
      "name": "python",
      "nbconvert_exporter": "python",
      "pygments_lexer": "ipython3",
      "version": "3.7.4"
    },
    "colab": {
      "name": "Project2-Anomaly Detection Algorithm using Gaussian Mixture Model.ipynb",
      "provenance": [],
      "collapsed_sections": []
    },
    "accelerator": "GPU"
  },
  "cells": [
    {
      "cell_type": "markdown",
      "metadata": {
        "id": "9Ucvm7IH6da3",
        "colab_type": "text"
      },
      "source": [
        "# APS1070\n",
        "#### Lab 2 - Anomaly Detection Algorithm using Gaussian Mixture Model \n",
        "**Deadline: Feb 14, 23:59 - 10 points**"
      ]
    },
    {
      "cell_type": "markdown",
      "metadata": {
        "id": "hGTYOwVXnmGv",
        "colab_type": "text"
      },
      "source": [
        "Please fill out the following:\n",
        "\n",
        "\n",
        "*   Name: Sai Anirudh Basamsetty\n",
        "*   Student Number:"
      ]
    },
    {
      "cell_type": "markdown",
      "metadata": {
        "id": "7eznbYb46UIg",
        "colab_type": "text"
      },
      "source": [
        "##**Marking Scheme:**\n",
        "\n",
        "This project is worth **10 marks** of your final grade.\n",
        "\n",
        "**One (1) mark** of the lab is dedicated to **vectorized coding**. If you need to write a loop in your solution, think about how you can implement the same functionality with vectorized operations. Try to avoid loops as much as possible (in some cases loops are inevitable).\n",
        "\n",
        "This notebook is composed of two sections, a Tutorial, and an Exercise. \n",
        "\n",
        "The TAs in the lab will help you to complete your tutorial (Although no mark is assigned to the **tutorial** compeleting that section is **mandatory**). \n",
        "\n",
        "**The exercise** section is worth **9 points**."
      ]
    },
    {
      "cell_type": "markdown",
      "metadata": {
        "id": "ah6mFIP_8ArM",
        "colab_type": "text"
      },
      "source": [
        "##**Important Note:**\n",
        "\n",
        "1] Please **write answers** for the Tutorial & Exercise in the **blanks provided**.\n",
        "\n",
        "2] Start lab early so that you understand concepts in Tutorial well & get enough time to implement exercise  \n",
        "\n",
        "3] It is important to **complete and run the tutorial part** of the notebook. Make sure you complete both, tutorial as well as exercise part.\n",
        " \n",
        "4] Provide a graphical representation of data wherever necessary.  \n"
      ]
    },
    {
      "cell_type": "markdown",
      "metadata": {
        "id": "Hs5-q7uBE5EX",
        "colab_type": "text"
      },
      "source": [
        "##Tutorial"
      ]
    },
    {
      "cell_type": "markdown",
      "metadata": {
        "id": "rGO4OT_Ce8Sj",
        "colab_type": "text"
      },
      "source": [
        "In this part of the assignment, we will implement an anomaly detection algorithm using the Gaussian model to detect anomalous behavior in a 2D dataset first and then a high-dimensional dataset.\n",
        "\n",
        "Loading relevant libraries and the dataset"
      ]
    },
    {
      "cell_type": "code",
      "metadata": {
        "id": "kTx2BdY3e8S8",
        "colab_type": "code",
        "outputId": "4b2c1165-91a6-42c3-f071-7423c52acc52",
        "colab": {
          "base_uri": "https://localhost:8080/",
          "height": 321
        }
      },
      "source": [
        "import numpy as np\n",
        "import matplotlib.pyplot as plt\n",
        "\n",
        "\n",
        "from sklearn.datasets.samples_generator import make_blobs\n",
        "X, y_true = make_blobs(n_samples=400, centers=1,\n",
        "                       cluster_std=0.60, random_state=0)\n",
        "X_append, y_true_append = make_blobs(n_samples=10,centers=1,\n",
        "                                    cluster_std=5,random_state=0)\n",
        "X = np.vstack([X,X_append])\n",
        "y_true = np.hstack([y_true, [1 for _ in y_true_append]])\n",
        "X = X[:, ::-1] # flip axes for better plotting\n",
        "plt.scatter(X[:,0],X[:,1],marker=\"x\");"
      ],
      "execution_count": 0,
      "outputs": [
        {
          "output_type": "stream",
          "text": [
            "/usr/local/lib/python3.6/dist-packages/sklearn/utils/deprecation.py:144: FutureWarning: The sklearn.datasets.samples_generator module is  deprecated in version 0.22 and will be removed in version 0.24. The corresponding classes / functions should instead be imported from sklearn.datasets. Anything that cannot be imported from sklearn.datasets is now part of the private API.\n",
            "  warnings.warn(message, FutureWarning)\n"
          ],
          "name": "stderr"
        },
        {
          "output_type": "display_data",
          "data": {
            "image/png": "[encoded data removed]",
            "text/plain": [
              "<Figure size 432x288 with 1 Axes>"
            ]
          },
          "metadata": {
            "tags": []
          }
        }
      ]
    },
    {
      "cell_type": "markdown",
      "metadata": {
        "id": "mD8qOcC2e8Te",
        "colab_type": "text"
      },
      "source": [
        "Here we've manufactured a dataset where some points are visibly outliers from the main distribution.\n",
        "\n",
        "We can see this from looking at the plot, but how do we robustly identify the outliers? \n",
        "\n",
        "That's where a Gaussian estimation comes in. For this dataset, we only need a single Gaussian, for which we are gonna calculate the mean and standard deviation. Then, we're able to find the points that don't seem likely to have originated from that distribution - these are our outliers!\n",
        "\n",
        "First, we need to calculate the mean and variance for our data. Complete the function below to generate these values using these formulas:\n",
        "\n",
        "$$\\mu = \\frac{1}{m} \\sum_{i=1}^{m}X_i$$\n",
        "\n",
        "$$\\sigma^2 = \\frac{1}{m} \\sum_{i=1}^{m}(X_i-\\mu)^2$$"
      ]
    },
    {
      "cell_type": "code",
      "metadata": {
        "id": "MX-SIIr4e8Tk",
        "colab_type": "code",
        "colab": {}
      },
      "source": [
        "def estimateGaussian(X):\n",
        "    \"\"\"\n",
        "     This function estimates the parameters of a Gaussian distribution using the data in X\n",
        "    \"\"\"\n",
        "    \n",
        "    m = X.shape[0]\n",
        "    \n",
        "    #compute mean of X\n",
        "    sum_ = np.sum(X,axis=0)\n",
        "    mu =  (sum_/m)\n",
        "    \n",
        "    # compute variance of X\n",
        "    var = (np.sum((X - mu)**2, axis = 0))/m\n",
        "    \n",
        "    return mu,var\n",
        "mu, sigma2 = estimateGaussian(X)"
      ],
      "execution_count": 0,
      "outputs": []
    },
    {
      "cell_type": "markdown",
      "metadata": {
        "id": "8ulJhFFHe8T5",
        "colab_type": "text"
      },
      "source": [
        "Now, we will calculate for each point in X, the probability of the distribution $N(\\mu,\\sigma^2)$ generating that point randomly. This has been completed for you, although it is important to understand how the calculation of the PDF works."
      ]
    },
    {
      "cell_type": "code",
      "metadata": {
        "id": "tdvju5Ive8UF",
        "colab_type": "code",
        "colab": {}
      },
      "source": [
        "def multivariateGaussian(X, mu, sigma2):\n",
        "    \"\"\"\n",
        "    Computes the probability density function of the multivariate gaussian distribution.\n",
        "    \"\"\"\n",
        "    k = len(mu)\n",
        "    \n",
        "    sigma2=np.diag(sigma2)\n",
        "    X = X - mu.T\n",
        "    p = 1/((2*np.pi)**(k/2)*(np.linalg.det(sigma2)**0.5))* np.exp(-0.5* np.sum(X @ np.linalg.pinv(sigma2) * X,axis=1))\n",
        "    return p\n",
        "p = multivariateGaussian(X, mu, sigma2)"
      ],
      "execution_count": 0,
      "outputs": []
    },
    {
      "cell_type": "markdown",
      "metadata": {
        "id": "l_Sze60ie8Uc",
        "colab_type": "text"
      },
      "source": [
        "Now that we have the probability of each point in the dataset, we can plot these on the original scatterplot:"
      ]
    },
    {
      "cell_type": "code",
      "metadata": {
        "id": "POrlps2qe8Uj",
        "colab_type": "code",
        "colab": {}
      },
      "source": [
        "plt.figure(figsize=(8,6))\n",
        "plt.scatter(X[:,0],X[:,1],marker=\"x\",c=p,cmap='viridis');\n",
        "plt.colorbar();"
      ],
      "execution_count": 0,
      "outputs": []
    },
    {
      "cell_type": "markdown",
      "metadata": {
        "id": "u3eLSr5Ae8U4",
        "colab_type": "text"
      },
      "source": [
        "We're getting closer to the point where we can programmatically  identify our outliers for a single Gaussian distribution. The last step is to identify a value for $p$, below which we consider a point to be an outlier. We term this $\\epsilon$."
      ]
    },
    {
      "cell_type": "code",
      "metadata": {
        "id": "1snRc3pbe8VN",
        "colab_type": "code",
        "colab": {}
      },
      "source": [
        "#Choose a value for epsilon\n",
        "\n",
        "epsilon = 0.02"
      ],
      "execution_count": 0,
      "outputs": []
    },
    {
      "cell_type": "markdown",
      "metadata": {
        "id": "LbkVvmuBe8Wb",
        "colab_type": "text"
      },
      "source": [
        "Now we'll highlight on the scatter plot all points that are below $\\epsilon$:"
      ]
    },
    {
      "cell_type": "code",
      "metadata": {
        "id": "jm-ifxxQe8Wn",
        "colab_type": "code",
        "outputId": "684f161f-6293-4270-9283-30b150685cf2",
        "colab": {
          "base_uri": "https://localhost:8080/",
          "height": 374
        }
      },
      "source": [
        "plt.figure(figsize=(8,6))\n",
        "plt.scatter(X[:,0],X[:,1],marker=\"x\",c=p,cmap='viridis');\n",
        "# Circling of anomalies\n",
        "outliers = np.nonzero(p<epsilon)[0]\n",
        "plt.scatter(X[outliers,0],X[outliers,1],marker=\"o\",facecolor=\"none\",edgecolor=\"r\",s=70);"
      ],
      "execution_count": 0,
      "outputs": [
        {
          "output_type": "display_data",
          "data": {
            "image/png": "[encoded data removed]",
            "text/plain": [
              "<Figure size 576x432 with 1 Axes>"
            ]
          },
          "metadata": {
            "tags": []
          }
        }
      ]
    },
    {
      "cell_type": "markdown",
      "metadata": {
        "id": "QOxDRW3ce8XA",
        "colab_type": "text"
      },
      "source": [
        "What value of epsilon did you choose? Why? **I chose epsilon=0.02 as all the odd values outside the cluster are sorted out.**\n",
        "\n",
        "Play around with different values until you're happy with the plot above. \n",
        "\n",
        "We can additionally look at our model's classification performance another way. By sorting the points ascending by their probability, and classifying the first $k$ points as anomalous, we can determine the model's precision@k. Implement this in the cell below. \n",
        "\n",
        "* What is the highest value of K for which we get a precision of 1.0? **The highest value of k is 10**\n",
        "* What is the precision for K=4? **Precision: 1, Recall: 0.4**"
      ]
    },
    {
      "cell_type": "code",
      "metadata": {
        "id": "_JcEkhk2e8XJ",
        "colab_type": "code",
        "outputId": "13c03082-b74c-4762-c254-362e54008ebb",
        "colab": {
          "base_uri": "https://localhost:8080/",
          "height": 447
        }
      },
      "source": [
        "from sklearn.metrics import precision_score ,recall_score\n",
        "import pandas as pd\n",
        "\n",
        "\n",
        "def sort_and_predict(p, y_true, K = [1,10,100]):\n",
        "    # Initializing values\n",
        "    precision_scores = np.zeros((len(K),3)) # Final Table of precision/recall scores\n",
        "\n",
        "    # Storing the indices of the sorted p\n",
        "    sorted_indices = np.argsort(p)\n",
        "\n",
        "    # Sorting the probabilities in ascending order\n",
        "    sorted_p = np.sort(p)\n",
        "\n",
        "    # Sorting the predictions according to probabilities\n",
        "    sorted_y_true = y_true[sorted_indices]\n",
        "\n",
        "    # Looping through k\n",
        "    for count, k in enumerate(K):\n",
        "        y_pred = np.zeros((len(p),)) # Generating a prediction vector\n",
        "        y_pred[:k] = 1 # Anomaly\n",
        "        y_pred[k:] = 0 # Not anomaly\n",
        "        precision_scores[count,0] = k\n",
        "        precision_scores[count,1] = precision_score(sorted_y_true, y_pred)\n",
        "        precision_scores[count,2] = recall_score(sorted_y_true, y_pred)\n",
        "\n",
        "    return pd.DataFrame(precision_scores, columns = ['k','Precision','Recall']).set_index('k')\n",
        "\n",
        "sort_and_predict(p, y_true, K = list(range(1,100)))\n",
        "\n",
        "\n",
        "\n",
        "\n",
        "\n"
      ],
      "execution_count": 0,
      "outputs": [
        {
          "output_type": "execute_result",
          "data": {
            "text/html": [
              "<div>\n",
              "<style scoped>\n",
              "    .dataframe tbody tr th:only-of-type {\n",
              "        vertical-align: middle;\n",
              "    }\n",
              "\n",
              "    .dataframe tbody tr th {\n",
              "        vertical-align: top;\n",
              "    }\n",
              "\n",
              "    .dataframe thead th {\n",
              "        text-align: right;\n",
              "    }\n",
              "</style>\n",
              "<table border=\"1\" class=\"dataframe\">\n",
              "  <thead>\n",
              "    <tr style=\"text-align: right;\">\n",
              "      <th></th>\n",
              "      <th>Precision</th>\n",
              "      <th>Recall</th>\n",
              "    </tr>\n",
              "    <tr>\n",
              "      <th>k</th>\n",
              "      <th></th>\n",
              "      <th></th>\n",
              "    </tr>\n",
              "  </thead>\n",
              "  <tbody>\n",
              "    <tr>\n",
              "      <th>1.0</th>\n",
              "      <td>1.000000</td>\n",
              "      <td>0.1</td>\n",
              "    </tr>\n",
              "    <tr>\n",
              "      <th>2.0</th>\n",
              "      <td>1.000000</td>\n",
              "      <td>0.2</td>\n",
              "    </tr>\n",
              "    <tr>\n",
              "      <th>3.0</th>\n",
              "      <td>1.000000</td>\n",
              "      <td>0.3</td>\n",
              "    </tr>\n",
              "    <tr>\n",
              "      <th>4.0</th>\n",
              "      <td>1.000000</td>\n",
              "      <td>0.4</td>\n",
              "    </tr>\n",
              "    <tr>\n",
              "      <th>5.0</th>\n",
              "      <td>1.000000</td>\n",
              "      <td>0.5</td>\n",
              "    </tr>\n",
              "    <tr>\n",
              "      <th>...</th>\n",
              "      <td>...</td>\n",
              "      <td>...</td>\n",
              "    </tr>\n",
              "    <tr>\n",
              "      <th>95.0</th>\n",
              "      <td>0.105263</td>\n",
              "      <td>1.0</td>\n",
              "    </tr>\n",
              "    <tr>\n",
              "      <th>96.0</th>\n",
              "      <td>0.104167</td>\n",
              "      <td>1.0</td>\n",
              "    </tr>\n",
              "    <tr>\n",
              "      <th>97.0</th>\n",
              "      <td>0.103093</td>\n",
              "      <td>1.0</td>\n",
              "    </tr>\n",
              "    <tr>\n",
              "      <th>98.0</th>\n",
              "      <td>0.102041</td>\n",
              "      <td>1.0</td>\n",
              "    </tr>\n",
              "    <tr>\n",
              "      <th>99.0</th>\n",
              "      <td>0.101010</td>\n",
              "      <td>1.0</td>\n",
              "    </tr>\n",
              "  </tbody>\n",
              "</table>\n",
              "<p>99 rows × 2 columns</p>\n",
              "</div>"
            ],
            "text/plain": [
              "      Precision  Recall\n",
              "k                      \n",
              "1.0    1.000000     0.1\n",
              "2.0    1.000000     0.2\n",
              "3.0    1.000000     0.3\n",
              "4.0    1.000000     0.4\n",
              "5.0    1.000000     0.5\n",
              "...         ...     ...\n",
              "95.0   0.105263     1.0\n",
              "96.0   0.104167     1.0\n",
              "97.0   0.103093     1.0\n",
              "98.0   0.102041     1.0\n",
              "99.0   0.101010     1.0\n",
              "\n",
              "[99 rows x 2 columns]"
            ]
          },
          "metadata": {
            "tags": []
          },
          "execution_count": 7
        }
      ]
    },
    {
      "cell_type": "markdown",
      "metadata": {
        "id": "NUUfRXXUe8Xg",
        "colab_type": "text"
      },
      "source": [
        "You may have noticed that in this example, we are training and testing on the _entire_ dataset. This is absolutely not standard practice! You should _always_ split into a training and testing set. However, the reason that we can get away with this here is that we don't actually use labels at all during training - this is an _unsupervised_ machine learning task. Unsupervised learning methods are beneficial for anomaly detection because in the real world (i.e. testing!) we might come across types of outliers that we didn't see during training. We want to use a method that can handle this, and unsupervised methods are often better suited to this type of domain.\n",
        "\n",
        "For the next section, we'll move to a Mixture of Gaussian models. Take a look at the following dataset:"
      ]
    },
    {
      "cell_type": "code",
      "metadata": {
        "id": "un2Y2Ci3e8Xp",
        "colab_type": "code",
        "outputId": "9082c7f9-d4b8-4383-f15b-fcd177fe7302",
        "colab": {
          "base_uri": "https://localhost:8080/",
          "height": 265
        }
      },
      "source": [
        "from sklearn.datasets.samples_generator import make_blobs\n",
        "from sklearn.model_selection import train_test_split\n",
        "X, y_true = make_blobs(n_samples=400, centers=5,\n",
        "                       cluster_std=0.60, random_state=1)\n",
        "X_append, y_true_append = make_blobs(n_samples=50,centers=5,\n",
        "                                    cluster_std=5,random_state=1)\n",
        "X = np.vstack([X,X_append])\n",
        "y_true = np.hstack([[0 for _ in y_true], [1 for _ in y_true_append]])\n",
        "X = X[:, ::-1] # flip axes for better plotting\n",
        "\n",
        "X_train, X_test, y_train, y_test = train_test_split(X, y_true, test_size=0.33, random_state=1, shuffle=True)\n",
        "\n",
        "plt.scatter(X_train[:,0],X_train[:,1],marker=\"x\");"
      ],
      "execution_count": 0,
      "outputs": [
        {
          "output_type": "display_data",
          "data": {
            "image/png": "[encoded data removed]",
            "text/plain": [
              "<Figure size 432x288 with 1 Axes>"
            ]
          },
          "metadata": {
            "tags": []
          }
        }
      ]
    },
    {
      "cell_type": "markdown",
      "metadata": {
        "id": "fs6_y8BFe8Yb",
        "colab_type": "text"
      },
      "source": [
        "Okay, we have more than one cluster centre now. So what? Let's just ignore that and use the same model as before. \n",
        "\n",
        "* What is the precision for k=1 in the cell below? **Precision score is 1.00**\n",
        "* k=10? **Precision score is 0.90 and recall score is 0.50**\n",
        "* k=100? **Precision score is 0.13 and recall score is 0.722**"
      ]
    },
    {
      "cell_type": "code",
      "metadata": {
        "id": "b-j_1On8e8Yi",
        "colab_type": "code",
        "outputId": "4a612553-5fa4-48d9-e5d2-d7826c576719",
        "colab": {
          "base_uri": "https://localhost:8080/",
          "height": 374
        }
      },
      "source": [
        "mu, sigma2 = estimateGaussian(X_train)\n",
        "p = multivariateGaussian(X_test, mu, sigma2)\n",
        "plt.figure(figsize=(8,6))\n",
        "plt.scatter(X_test[:,0],X_test[:,1],marker=\"x\",c=p,cmap='viridis');\n",
        "outliers = np.nonzero(p<0.001)[0]\n",
        "plt.scatter(X_test[outliers,0],X_test[outliers,1],marker=\"o\",facecolor=\"none\",edgecolor=\"r\",s=70);\n"
      ],
      "execution_count": 0,
      "outputs": [
        {
          "output_type": "display_data",
          "data": {
            "image/png": "[encoded data removed]",
            "text/plain": [
              "<Figure size 576x432 with 1 Axes>"
            ]
          },
          "metadata": {
            "tags": []
          }
        }
      ]
    },
    {
      "cell_type": "code",
      "metadata": {
        "id": "PlzzkyLVAHFU",
        "colab_type": "code",
        "outputId": "03737ee4-fa10-4c3f-ab46-030828980c0d",
        "colab": {
          "base_uri": "https://localhost:8080/",
          "height": 171
        }
      },
      "source": [
        "sort_and_predict(p, y_test, K = [1,10,100])"
      ],
      "execution_count": 0,
      "outputs": [
        {
          "output_type": "execute_result",
          "data": {
            "text/html": [
              "<div>\n",
              "<style scoped>\n",
              "    .dataframe tbody tr th:only-of-type {\n",
              "        vertical-align: middle;\n",
              "    }\n",
              "\n",
              "    .dataframe tbody tr th {\n",
              "        vertical-align: top;\n",
              "    }\n",
              "\n",
              "    .dataframe thead th {\n",
              "        text-align: right;\n",
              "    }\n",
              "</style>\n",
              "<table border=\"1\" class=\"dataframe\">\n",
              "  <thead>\n",
              "    <tr style=\"text-align: right;\">\n",
              "      <th></th>\n",
              "      <th>Precision</th>\n",
              "      <th>Recall</th>\n",
              "    </tr>\n",
              "    <tr>\n",
              "      <th>k</th>\n",
              "      <th></th>\n",
              "      <th></th>\n",
              "    </tr>\n",
              "  </thead>\n",
              "  <tbody>\n",
              "    <tr>\n",
              "      <th>1.0</th>\n",
              "      <td>1.00</td>\n",
              "      <td>0.055556</td>\n",
              "    </tr>\n",
              "    <tr>\n",
              "      <th>10.0</th>\n",
              "      <td>0.90</td>\n",
              "      <td>0.500000</td>\n",
              "    </tr>\n",
              "    <tr>\n",
              "      <th>100.0</th>\n",
              "      <td>0.13</td>\n",
              "      <td>0.722222</td>\n",
              "    </tr>\n",
              "  </tbody>\n",
              "</table>\n",
              "</div>"
            ],
            "text/plain": [
              "       Precision    Recall\n",
              "k                         \n",
              "1.0         1.00  0.055556\n",
              "10.0        0.90  0.500000\n",
              "100.0       0.13  0.722222"
            ]
          },
          "metadata": {
            "tags": []
          },
          "execution_count": 10
        }
      ]
    },
    {
      "cell_type": "markdown",
      "metadata": {
        "id": "1kmcR_pCe8Y6",
        "colab_type": "text"
      },
      "source": [
        "Uh oh. This model performs terribly. It's fit the mean to a section of space where we don't have _any_ points, and it has absolutely no idea which points are outliers! This was probably pretty obvious to you though. We need to move to a Mixture of Gaussians model - one in which we use multiple Gaussians to fit the data. We'll use `sklearn.mixture.GaussianMixture` to do this - or rather you will! Use the documentation, found [here](https://scikit-learn.org/stable/modules/generated/sklearn.mixture.GaussianMixture.html#sklearn.mixture.GaussianMixture) to initialise and fit a `GaussianMixture` object called `gm` in the cell below."
      ]
    },
    {
      "cell_type": "code",
      "metadata": {
        "id": "SOcXDk-ie8ZD",
        "colab_type": "code",
        "outputId": "61fbd44d-093d-4842-c194-54c48184f6fe",
        "colab": {
          "base_uri": "https://localhost:8080/",
          "height": 91
        }
      },
      "source": [
        "from sklearn.mixture import GaussianMixture\n",
        "gm = GaussianMixture(n_components = 5,\n",
        "                    covariance_type = 'full', random_state=0,  )\n",
        "gm.fit(X_train)"
      ],
      "execution_count": 0,
      "outputs": [
        {
          "output_type": "execute_result",
          "data": {
            "text/plain": [
              "GaussianMixture(covariance_type='full', init_params='kmeans', max_iter=100,\n",
              "                means_init=None, n_components=5, n_init=1, precisions_init=None,\n",
              "                random_state=0, reg_covar=1e-06, tol=0.001, verbose=0,\n",
              "                verbose_interval=10, warm_start=False, weights_init=None)"
            ]
          },
          "metadata": {
            "tags": []
          },
          "execution_count": 11
        }
      ]
    },
    {
      "cell_type": "markdown",
      "metadata": {
        "id": "T1vVv9cHEqkd",
        "colab_type": "text"
      },
      "source": [
        "Now we can use the method `gm.score_samples()` which gives a score based on how likely a point is to have been generated by any cluster:"
      ]
    },
    {
      "cell_type": "code",
      "metadata": {
        "id": "aZ0g9Suie8Ze",
        "colab_type": "code",
        "outputId": "87f161f7-03f0-451d-9a0e-9288edf479e6",
        "colab": {
          "base_uri": "https://localhost:8080/",
          "height": 611
        }
      },
      "source": [
        "plt.figure(figsize=(10,10))\n",
        "c = gm.score_samples(X_train)\n",
        "plt.scatter(X_train[:,0],X_train[:,1],c=gm.score_samples(X_train),cmap='viridis',marker='x')\n",
        "\n",
        "threshold= -4.8\n",
        "\n",
        "outliers = np.nonzero(c<threshold)[0]\n",
        "plt.scatter(X_train[outliers,0],X_train[outliers,1],marker=\"o\",facecolor= \"none\",edgecolor=\"r\",s=70)"
      ],
      "execution_count": 0,
      "outputs": [
        {
          "output_type": "execute_result",
          "data": {
            "text/plain": [
              "<matplotlib.collections.PathCollection at 0x7fde51be65c0>"
            ]
          },
          "metadata": {
            "tags": []
          },
          "execution_count": 12
        },
        {
          "output_type": "display_data",
          "data": {
            "image/png": "[encoded data removed]",
            "text/plain": [
              "<Figure size 720x720 with 1 Axes>"
            ]
          },
          "metadata": {
            "tags": []
          }
        }
      ]
    },
    {
      "cell_type": "markdown",
      "metadata": {
        "id": "1UNHXYGQE051",
        "colab_type": "text"
      },
      "source": [
        "What is the variable \"`threshold`\"? **EM iterations will stop when the lower bound average gain is below this threshold.**\n",
        " \n",
        " \n",
        " Why is it negative? **The points that are to be filtered are mostly negative**\n",
        " \n",
        "Now we can use the method `gm.predict_proba()` to spot the points in each of the clusters."
      ]
    },
    {
      "cell_type": "code",
      "metadata": {
        "id": "WPOHN1zwE4hN",
        "colab_type": "code",
        "outputId": "62d86d6b-9bc6-430a-b5ae-f89972c28e63",
        "colab": {
          "base_uri": "https://localhost:8080/",
          "height": 1000
        }
      },
      "source": [
        "Non_Outliers=np.nonzero(c>=threshold)[0]\n",
        "X_t=X_train[Non_Outliers]\n",
        "print(gm.predict_proba(X_train))\n",
        "print(gm.score_samples(X_t))"
      ],
      "execution_count": 0,
      "outputs": [
        {
          "output_type": "stream",
          "text": [
            "[[3.32032178e-011 4.40166043e-009 3.18952155e-011 6.74869931e-059\n",
            "  9.99999996e-001]\n",
            " [9.99999997e-001 1.29319813e-119 2.14816399e-009 1.93712936e-015\n",
            "  1.19215143e-009]\n",
            " [7.32070993e-004 2.83317796e-056 9.99266986e-001 1.34738997e-013\n",
            "  9.42624363e-007]\n",
            " ...\n",
            " [4.96241137e-012 1.41218398e-007 1.32754039e-012 1.98450900e-062\n",
            "  9.99999859e-001]\n",
            " [1.74883538e-021 9.99282358e-001 9.26527784e-034 1.59058143e-109\n",
            "  7.17641787e-004]\n",
            " [2.82750636e-020 9.74932585e-001 3.62991363e-029 2.22050746e-101\n",
            "  2.50674150e-002]]\n",
            "[-4.17649083 -3.51699613 -3.66046779 -4.17037173 -4.13690423 -3.23218358\n",
            " -3.80763763 -3.4222668  -4.18441578 -3.17229053 -3.84099701 -4.12698981\n",
            " -3.84504974 -3.37261619 -3.94206657 -3.25055041 -4.55754813 -4.26240418\n",
            " -3.67979038 -3.5286204  -4.17661908 -4.17850787 -4.65067984 -3.23213568\n",
            " -4.20096053 -3.99798884 -4.14013116 -3.2981905  -3.94567493 -4.3371146\n",
            " -4.14993318 -4.32886761 -4.59001642 -3.30940836 -4.13913447 -4.02558726\n",
            " -3.49963565 -3.04436382 -4.45531007 -3.87448899 -4.11451564 -3.83626162\n",
            " -3.1063221  -3.94556569 -4.24408077 -4.45365925 -4.73476314 -3.80388391\n",
            " -3.11088657 -2.98090391 -3.798064   -4.35865846 -3.14675853 -3.30745109\n",
            " -3.06713804 -3.1031972  -4.13818184 -3.56786471 -2.90410056 -3.68608041\n",
            " -3.56718838 -4.38328277 -3.59218162 -3.28094171 -3.98647301 -3.10043195\n",
            " -3.01773455 -4.20078427 -3.45498484 -4.24209705 -3.4303708  -3.77098672\n",
            " -4.76563994 -4.11647489 -3.51088865 -4.37487282 -2.94440881 -3.12659736\n",
            " -4.35688989 -3.62026209 -4.54073046 -3.55023069 -3.23056248 -3.29237877\n",
            " -4.51596709 -4.58583559 -3.06981804 -3.0386348  -3.50659435 -3.89462117\n",
            " -2.93655197 -4.18841319 -3.19045124 -3.22892557 -3.01584945 -3.45754307\n",
            " -4.37546936 -3.4454121  -3.91139072 -3.96157705 -3.55421932 -3.02139858\n",
            " -3.65651276 -4.24273185 -3.98101412 -3.0253989  -3.56260885 -4.21670885\n",
            " -3.6803246  -2.98697553 -3.87655988 -3.39922241 -3.52080995 -4.11900192\n",
            " -3.17949582 -4.26551367 -3.11000262 -3.52318466 -3.26582136 -4.40920218\n",
            " -2.97423563 -3.74076527 -3.04326057 -3.58340194 -4.45878525 -4.44754899\n",
            " -3.8458363  -3.58507573 -3.95885884 -4.24492736 -4.31751105 -3.24514575\n",
            " -4.00198174 -4.2144236  -4.19276019 -4.52556977 -3.37443627 -3.41390456\n",
            " -3.12240309 -3.53892583 -4.17031988 -3.51148505 -3.09317823 -4.46504805\n",
            " -3.43043784 -4.09599033 -3.12313491 -2.98546115 -4.60205947 -3.16868523\n",
            " -2.95540288 -3.73127029 -2.95580344 -3.64227956 -4.22901691 -4.33393278\n",
            " -3.50757755 -4.62219461 -3.64003794 -3.58382078 -3.13334333 -3.72581943\n",
            " -3.23550791 -4.5464774  -4.24572028 -4.33966146 -4.29801273 -3.63022826\n",
            " -4.19254094 -3.13993863 -3.54187565 -4.01135864 -3.13112341 -3.57575052\n",
            " -4.11376454 -3.85389644 -4.1476865  -3.78048681 -3.64683495 -4.75161117\n",
            " -3.4358031  -3.10922679 -3.01734372 -4.1924442  -3.2107261  -3.58468002\n",
            " -3.17502936 -4.05010644 -3.22542465 -2.96754914 -3.41660556 -4.1559535\n",
            " -4.14696881 -3.39826489 -3.17072941 -3.63292809 -3.70923354 -3.53948804\n",
            " -3.80377323 -3.10010986 -3.52023517 -3.14599747 -3.50771302 -4.2958136\n",
            " -4.42359432 -3.64655338 -3.71420684 -3.35913276 -4.14817895 -4.15786727\n",
            " -3.64048133 -4.60641438 -4.01294463 -2.9569532  -3.2821012  -3.50623561\n",
            " -3.11753867 -3.07137372 -3.3441805  -4.41789749 -3.12161361 -4.32817926\n",
            " -3.06390056 -4.67736871 -3.1178594  -3.52214587 -3.11083702 -3.21147777\n",
            " -3.1171526  -3.48724681 -3.61008998 -3.644671   -3.09953978 -3.4707669\n",
            " -3.77064879 -4.20223542 -4.33951649 -3.64129427 -3.27341238 -4.45699365\n",
            " -4.09725927 -3.37713382 -3.60198518 -3.1956535  -4.28804316 -4.16732959\n",
            " -4.34208409 -4.24837232 -3.30179119 -3.74443947 -3.74553379 -4.27610428\n",
            " -2.93443056 -4.33843063 -3.38900719 -4.13836275 -3.33972976 -4.13904989\n",
            " -4.14396353 -3.76240513 -3.99781947]\n"
          ],
          "name": "stdout"
        }
      ]
    },
    {
      "cell_type": "code",
      "metadata": {
        "id": "pupN5PmuE67x",
        "colab_type": "code",
        "outputId": "61da2102-95a7-4280-a7e5-69dd27632860",
        "colab": {
          "base_uri": "https://localhost:8080/",
          "height": 592
        }
      },
      "source": [
        "plt.figure(figsize=(10,10))\n",
        "for i in range(5):\n",
        "    plt.subplot(3,2,i+1)\n",
        "    plt.scatter(X_t[:,0],X_t[:,1],c=gm.predict_proba(X_t)[:,i],cmap='viridis',marker='x')"
      ],
      "execution_count": 0,
      "outputs": [
        {
          "output_type": "display_data",
          "data": {
            "image/png": "[encoded data removed]",
            "text/plain": [
              "<Figure size 720x720 with 5 Axes>"
            ]
          },
          "metadata": {
            "tags": []
          }
        }
      ]
    },
    {
      "cell_type": "markdown",
      "metadata": {
        "id": "I4A4pD4jE9kb",
        "colab_type": "text"
      },
      "source": [
        "1] What do functions `gm.score_samples()` and `gm.predict_proba()` return? **The density of the model at a given location is computed by gm.score_samples() and gm.predict_proba() predicts posterior probability of each component given the data**\n",
        "\n",
        "2] Why it was important to run them in above sequence? **The classify the data into clusters and to spot the points in each clusters.**\n",
        "\n",
        "3] What is the difference between the two function?**gm.predict is used to to find the probability of each point being part of any of the five clusters. and gm.score_samples returns the PDF of samples.**\n"
      ]
    },
    {
      "cell_type": "markdown",
      "metadata": {
        "id": "ue-8F_8_e8Zp",
        "colab_type": "text"
      },
      "source": [
        "Our Mixture of Gaussians model is powerful! Not only is it unsupervised, it can both classify points into one of the K clusters we have, _and_ it can help us with our ultimate goal of identifying outlier points! We can do this by finding the points that no cluster wants to claim for itself.\n",
        "\n",
        "In the cell below, complete the code and calculate these values and then compute precision@k for k=1, 10, and 100. The ROC curve code has been completed for you. \n",
        "\n",
        "* Is this model better or worse performing than the previous? **This model performs better**\n",
        "* Why might that be? **We cannot use one normal distribution as we have clustered data. So a mixture of multiple gaussians must be used to fit the clusters. Each cluster will have a normal distribution and so we can calculate the probablity that a point is outside all of the clusters. If we fit a single Gaussian, we might predict points between clusters to not be anomalous because we're only fitting one clustered data to one distribution.**"
      ]
    },
    {
      "cell_type": "code",
      "metadata": {
        "id": "yNXCnzife8Zt",
        "colab_type": "code",
        "outputId": "ab643c50-2cf6-4548-da07-60af4153f003",
        "colab": {
          "base_uri": "https://localhost:8080/",
          "height": 298
        }
      },
      "source": [
        "from sklearn.metrics import precision_score\n",
        "from sklearn.metrics import recall_score\n",
        "\n",
        "#This part outputs the precision and recall on the test set\n",
        "\n",
        "#score_samples will compute the weighted log probabilities for each sample\n",
        "p_gm = gm.score_samples(X_test) \n",
        "\n",
        "#Complete code below\n",
        "for i in []: \n",
        "   #sort the points by probability, as before\n",
        "   mn_gm = gm.predict_proba(X_test)\n",
        "   #compare y_test labels to our picks using precision\n",
        "   precision =  precision_score(y_test, X_test)\n",
        "    \n",
        "   #compare y_test labels to our picks using recall\n",
        "   recall =  recall_score(y_test,X_test)\n",
        "   #print precision and recall three times\n",
        "   print()\n",
        "\n",
        "#This part computes the ROC curves for both models like we talked about in class\n",
        "\n",
        "from sklearn.metrics import roc_curve\n",
        "from matplotlib import pyplot\n",
        "fpr_sc, tpr_sc, _ = roc_curve(y_test, 1-p)\n",
        "fpr_gm, tpr_gm, _ = roc_curve(y_test, 1-p_gm)\n",
        "pyplot.plot(fpr_sc, tpr_sc, linestyle = '--', label='Single Component')\n",
        "pyplot.plot(fpr_gm, tpr_gm, marker='.', label='Gaussian Mixture')\n",
        "pyplot.xlabel('False Positive Rate')\n",
        "pyplot.ylabel('True Positive Rate')\n",
        "pyplot.legend()\n"
      ],
      "execution_count": 0,
      "outputs": [
        {
          "output_type": "execute_result",
          "data": {
            "text/plain": [
              "<matplotlib.legend.Legend at 0x7fde501a69b0>"
            ]
          },
          "metadata": {
            "tags": []
          },
          "execution_count": 15
        },
        {
          "output_type": "display_data",
          "data": {
            "image/png": "[encoded data removed]",
            "text/plain": [
              "<Figure size 432x288 with 1 Axes>"
            ]
          },
          "metadata": {
            "tags": []
          }
        }
      ]
    },
    {
      "cell_type": "markdown",
      "metadata": {
        "id": "ft37989Ze8Z4",
        "colab_type": "text"
      },
      "source": [
        "Let's look at a dataset that motivates using a Mixture of Gaussians model: Simpsons ratings.\n",
        "\n",
        "Everyone knows that there's a certain point when The Simpsons \"got bad\", but can we use a Mixture of Gaussians to find out exactly when that was?\n",
        "\n",
        "Load up the `simpsons.pickle` file using the cell below. It contains the IMDb rating for every simpsons episode."
      ]
    },
    {
      "cell_type": "code",
      "metadata": {
        "id": "ZoowFfVve8Z7",
        "colab_type": "code",
        "outputId": "bec48ad0-9d8c-457a-fa7c-917c5b69050b",
        "colab": {
          "base_uri": "https://localhost:8080/",
          "height": 312
        }
      },
      "source": [
        "!wget https://github.com/alexwolson/APS1070_data/raw/master/simpsons.pickle\n",
        "import pickle\n",
        "import matplotlib.pyplot as plt\n",
        "import numpy as np\n",
        "from sklearn.mixture import GaussianMixture\n",
        "with open('simpsons.pickle','rb') as f:\n",
        "    simpsons = pickle.load(f)"
      ],
      "execution_count": 0,
      "outputs": [
        {
          "output_type": "stream",
          "text": [
            "--2020-03-12 08:51:39--  https://github.com/alexwolson/APS1070_data/raw/master/simpsons.pickle\n",
            "Resolving github.com (github.com)... 13.250.177.223\n",
            "Connecting to github.com (github.com)|13.250.177.223|:443... connected.\n",
            "HTTP request sent, awaiting response... 302 Found\n",
            "Location: https://raw.githubusercontent.com/alexwolson/APS1070_data/master/simpsons.pickle [following]\n",
            "--2020-03-12 08:51:45--  https://raw.githubusercontent.com/alexwolson/APS1070_data/master/simpsons.pickle\n",
            "Resolving raw.githubusercontent.com (raw.githubusercontent.com)... 151.101.0.133, 151.101.64.133, 151.101.128.133, ...\n",
            "Connecting to raw.githubusercontent.com (raw.githubusercontent.com)|151.101.0.133|:443... connected.\n",
            "HTTP request sent, awaiting response... 200 OK\n",
            "Length: 26076 (25K) [application/octet-stream]\n",
            "Saving to: ‘simpsons.pickle’\n",
            "\n",
            "simpsons.pickle     100%[===================>]  25.46K  --.-KB/s    in 0s      \n",
            "\n",
            "2020-03-12 08:51:45 (59.3 MB/s) - ‘simpsons.pickle’ saved [26076/26076]\n",
            "\n"
          ],
          "name": "stdout"
        }
      ]
    },
    {
      "cell_type": "code",
      "metadata": {
        "id": "hGCkttwlC-pV",
        "colab_type": "code",
        "colab": {}
      },
      "source": [
        "simpsons = dict(sorted(list(simpsons.items()), key=lambda x: x[0]))"
      ],
      "execution_count": 0,
      "outputs": []
    },
    {
      "cell_type": "code",
      "metadata": {
        "id": "AAk-iB8nDcWB",
        "colab_type": "code",
        "colab": {}
      },
      "source": [
        "# Extracting ratings into a nunmpy array\n",
        "ratings = np.array([])\n",
        "for value in simpsons.values():\n",
        "  ratings = np.append(ratings, list(value.values()))"
      ],
      "execution_count": 0,
      "outputs": []
    },
    {
      "cell_type": "markdown",
      "metadata": {
        "id": "2vwlvtV9e8ad",
        "colab_type": "text"
      },
      "source": [
        "Plot a histogram of the rating distribution for all Simpsons episodes. \n",
        "\n",
        "* What is the modal rating? **7.1**\n",
        "* What is the range of ratings? **5.300000000000001**"
      ]
    },
    {
      "cell_type": "code",
      "metadata": {
        "id": "fxZC72Wme8al",
        "colab_type": "code",
        "outputId": "95558b6f-82d7-429f-916e-aad3bcc4fa8d",
        "colab": {
          "base_uri": "https://localhost:8080/",
          "height": 331
        }
      },
      "source": [
        "from scipy.stats import mode\n",
        "\n",
        "fig = plt.hist(ratings)\n",
        "plt.title('IMDB Ratings Distribution of Simpsons Episodes')\n",
        "plt.xlabel('Rating')\n",
        "plt.ylabel('Freq')\n",
        "plt.show()\n",
        "\n",
        "print(\"Modal Rating:\", mode(ratings)[0][0])\n",
        "print(\"Range of Ratings:\", ratings.max() - ratings.min())"
      ],
      "execution_count": 0,
      "outputs": [
        {
          "output_type": "display_data",
          "data": {
            "image/png": "[encoded data removed]",
            "text/plain": [
              "<Figure size 432x288 with 1 Axes>"
            ]
          },
          "metadata": {
            "tags": []
          }
        },
        {
          "output_type": "stream",
          "text": [
            "Modal Rating: 7.1\n",
            "Range of Ratings: 5.300000000000001\n"
          ],
          "name": "stdout"
        }
      ]
    },
    {
      "cell_type": "markdown",
      "metadata": {
        "id": "yD3dnH7Ce8at",
        "colab_type": "text"
      },
      "source": [
        "Next, use Gaussian Mixture to fit a Mixture of Gaussians to the Simpsons rating distribution. Since we are trying to distinguish between good and bad ratings, we only need 2 gaussians.\n",
        "\n",
        "* What are the means for the two Gaussians fit by the model? Bad: **6.7859272, Good: 8.20449347**\n",
        "* What about the standard deviations? **Bad: 0.60218053, Good: 0.45788767**"
      ]
    },
    {
      "cell_type": "code",
      "metadata": {
        "id": "HmJ5ESd7e8ay",
        "colab_type": "code",
        "outputId": "fa0cca13-b760-4dbf-bd79-478c72472e4d",
        "colab": {
          "base_uri": "https://localhost:8080/",
          "height": 91
        }
      },
      "source": [
        "gm = GaussianMixture(n_components = 2,\n",
        "                    covariance_type = 'full', random_state=0, )\n",
        "gm.fit(ratings.reshape(-1,1))"
      ],
      "execution_count": 0,
      "outputs": [
        {
          "output_type": "execute_result",
          "data": {
            "text/plain": [
              "GaussianMixture(covariance_type='full', init_params='kmeans', max_iter=100,\n",
              "                means_init=None, n_components=2, n_init=1, precisions_init=None,\n",
              "                random_state=0, reg_covar=1e-06, tol=0.001, verbose=0,\n",
              "                verbose_interval=10, warm_start=False, weights_init=None)"
            ]
          },
          "metadata": {
            "tags": []
          },
          "execution_count": 20
        }
      ]
    },
    {
      "cell_type": "code",
      "metadata": {
        "id": "q7di-dklD5kO",
        "colab_type": "code",
        "outputId": "ad2e8156-40ef-4735-ffb8-1bad49adaaf9",
        "colab": {
          "base_uri": "https://localhost:8080/",
          "height": 54
        }
      },
      "source": [
        "print(\"Means:\",gm.means_[:,0])\n",
        "print(\"Standard Deviations:\", np.sqrt(gm.covariances_[:,0][:,0]))"
      ],
      "execution_count": 0,
      "outputs": [
        {
          "output_type": "stream",
          "text": [
            "Means: [6.7859272  8.20449347]\n",
            "Standard Deviations: [0.60218053 0.45788767]\n"
          ],
          "name": "stdout"
        }
      ]
    },
    {
      "cell_type": "markdown",
      "metadata": {
        "id": "GFf8OR1me8a8",
        "colab_type": "text"
      },
      "source": [
        "Finally, using the `GuassianMixture.predict()` method, we can use maximum likelihood to estimate which distribution, good or bad, each episode belongs to. In the cell below, we have provided code to count the number of episodes predicted to be in the \"good\" distribution per season, and plot for the same.\n",
        "Understand the code and answer the question.\n",
        "\n",
        "* Where is the notable drop-off point? **Season 9**\n",
        "* What is the first season with 0 good episodes? **Season 15**\n"
      ]
    },
    {
      "cell_type": "code",
      "metadata": {
        "id": "ETyADy8xY0kM",
        "colab_type": "code",
        "outputId": "f6128e88-9703-4e13-ab46-d2c50eeb2e1e",
        "colab": {
          "base_uri": "https://localhost:8080/",
          "height": 268
        }
      },
      "source": [
        "\n",
        "if gm.means_[0,0] > gm.means_[1,0]:\n",
        "     Good_season_index = 0\n",
        "else:\n",
        "     Good_season_index = 1\n",
        "\n",
        "Xs = []\n",
        "Ys = []\n",
        "simpsons = dict(sorted(list(simpsons.items()), key=lambda x: x[0]))\n",
        "for season, episodes in simpsons.items():\n",
        "     bad = 0\n",
        "     good = 0\n",
        "     for episode in episodes.values():\n",
        "          if gm.predict(np.array(\n",
        "               episode\n",
        "          ).reshape(-1,1)) == Good_season_index:\n",
        "               good += 1\n",
        "          else:\n",
        "               bad += 1\n",
        "     Xs.append(season)\n",
        "     Ys.append(good/(good+bad))\n",
        "plt.plot(Xs,Ys);"
      ],
      "execution_count": 0,
      "outputs": [
        {
          "output_type": "display_data",
          "data": {
            "image/png": "[encoded data removed]",
            "text/plain": [
              "<Figure size 432x288 with 1 Axes>"
            ]
          },
          "metadata": {
            "tags": []
          }
        }
      ]
    },
    {
      "cell_type": "markdown",
      "metadata": {
        "id": "8rJ4v0HLEyie",
        "colab_type": "text"
      },
      "source": [
        "## Exercises"
      ]
    },
    {
      "cell_type": "markdown",
      "metadata": {
        "id": "xVh8MGvte8bX",
        "colab_type": "text"
      },
      "source": [
        "Now we are going to work with a credit card fraud dataset (more detail can be found [here](https://www.kaggle.com/mlg-ulb/creditcardfraud/downloads/creditcardfraud.zip/3)). This dataset contains 28 key features, which are not \n",
        "directly interpretable but contain meaningful information about the dataset.\n",
        "\n",
        "Load up the dataset in CSV file using Pandas. The dataset is called `creditcard.csv`. Print out the first few columns of the dataset.\n",
        "\n",
        "* How many rows are there?[0.5] **284807**\n",
        "* What features in the dataset are present aside from the 28 main features?[0.5] **Class, Amount , Time**\n",
        "* Why do you think the main features are given to us in this way?[0.5]   **The features were generated using a PCA analysis. The features might contain some confidential information, they are given in this way so that all users cannot understand. Perhaps 1000's of features might have been compressed using PCA analysis hence making less number of features making it easy to distribute and improve security**\n",
        "* Which column contains the targets? Can you figure out what the values correspond to?[0.5] **Class Column contains the targets. 0 is non fradulent, 1 is fradulent. Fradulence is bad**"
      ]
    },
    {
      "cell_type": "code",
      "metadata": {
        "id": "r9LfYqXUHbql",
        "colab_type": "code",
        "outputId": "bf18e1fa-13aa-453a-f56d-9254aff4e83b",
        "colab": {
          "base_uri": "https://localhost:8080/",
          "height": 183
        }
      },
      "source": [
        "pip install wget"
      ],
      "execution_count": 0,
      "outputs": [
        {
          "output_type": "stream",
          "text": [
            "Collecting wget\n",
            "  Downloading https://files.pythonhosted.org/packages/47/6a/62e288da7bcda82b935ff0c6cfe542970f04e29c756b0e147251b2fb251f/wget-3.2.zip\n",
            "Building wheels for collected packages: wget\n",
            "  Building wheel for wget (setup.py) ... \u001b[?25l\u001b[?25hdone\n",
            "  Created wheel for wget: filename=wget-3.2-cp36-none-any.whl size=9682 sha256=9379381f6f64348214d2b029d3084a040d4fa1087fdc9c35687a7c27d99866f4\n",
            "  Stored in directory: /root/.cache/pip/wheels/40/15/30/7d8f7cea2902b4db79e3fea550d7d7b85ecb27ef992b618f3f\n",
            "Successfully built wget\n",
            "Installing collected packages: wget\n",
            "Successfully installed wget-3.2\n"
          ],
          "name": "stdout"
        }
      ]
    },
    {
      "cell_type": "code",
      "metadata": {
        "id": "sg0gndnDe8bd",
        "colab_type": "code",
        "colab": {}
      },
      "source": [
        "import wget\n",
        "\n",
        "wget.download('https://github.com/alexwolson/APS1070_data/raw/master/creditcard.tar.gz','creditcard.tar.gz')"
      ],
      "execution_count": 0,
      "outputs": []
    },
    {
      "cell_type": "code",
      "metadata": {
        "id": "4h5z71s8e8bm",
        "colab_type": "code",
        "colab": {}
      },
      "source": [
        "!tar -zxvf creditcard.tar.gz"
      ],
      "execution_count": 0,
      "outputs": []
    },
    {
      "cell_type": "code",
      "metadata": {
        "id": "4ZAbDaphe8bt",
        "colab_type": "code",
        "colab": {}
      },
      "source": [
        "import pandas as pd\n",
        "from sklearn.model_selection import train_test_split\n",
        "df = pd.read_csv('creditcard.csv')\n",
        "df\n",
        "\n"
      ],
      "execution_count": 0,
      "outputs": []
    },
    {
      "cell_type": "code",
      "metadata": {
        "id": "8R-gZO1Z6RvS",
        "colab_type": "code",
        "colab": {}
      },
      "source": [
        "df.describe()"
      ],
      "execution_count": 0,
      "outputs": []
    },
    {
      "cell_type": "code",
      "metadata": {
        "id": "GtuLbp2k-6_6",
        "colab_type": "code",
        "colab": {}
      },
      "source": [
        "print(df.head())\n",
        "print(\"Rows:\", df.shape[0])\n",
        "print(df.columns)\n",
        "print(df['Class'].value_counts())"
      ],
      "execution_count": 0,
      "outputs": []
    },
    {
      "cell_type": "code",
      "metadata": {
        "id": "538qZYc2HRUt",
        "colab_type": "code",
        "colab": {}
      },
      "source": [
        "print(df['Class'].value_counts()*100/df.shape[0])"
      ],
      "execution_count": 0,
      "outputs": []
    },
    {
      "cell_type": "markdown",
      "metadata": {
        "id": "1w6cRXOee8b3",
        "colab_type": "text"
      },
      "source": [
        "It's always important when looking at a new dataset to figure out how many rows we have for each class.\n",
        "\n",
        "* What is the percentage of entries in the dataset for each class?[0.5] **99.827251% non-fradulent, 0.172749% fradulent**\n",
        "* Is this target data balanced or unbalanced? why do you think this is so?[0.5]**The given target data is unbalanced as the number of fradulent cases is less than the number of non-fradulent cases**\n",
        "* Why might this pose a problem when methods we have looked at so far?[1]   **Splitting into a training and test set might pose a problem, we cannot have sufficient number of fradulent examples to train and test our model.**\n",
        "\n"
      ]
    },
    {
      "cell_type": "markdown",
      "metadata": {
        "id": "v4EPw3I-e8b7",
        "colab_type": "text"
      },
      "source": [
        "Next, split the dataset into a training and testing set. Use a test size of one third, and set the random state to 0.\n",
        "\n",
        "Make sure to separate out the column corresponding to the targets.\n",
        "\n",
        "As mentioned earlier, in this lab we are going to use Gaussian distributions to model the data. To accomplish this, we are going to introduce `scipy`, a package which contains a wide variety of tools for working with scientific data in Python. Its `stats` package allows us to easily model various statistical distributions, and get information about them.\n",
        "\n",
        "Scipy's Gaussian distribution class is called `norm`. It takes two parameters - `loc`, which corresponds to the mean of your distribution, and `scale`, which corresponds to the standard deviation.\n",
        "\n",
        "* What are the mean and standard deviation for variable V24? Make sure to only use your training set for this. [1] **Mean:0.0004296701611641686 ; Standard Deviation: 0.6048294388274841**\n",
        "\n",
        "Use the code below to set up a Gaussian object for V24."
      ]
    },
    {
      "cell_type": "code",
      "metadata": {
        "id": "mbvAZ42qe8b9",
        "colab_type": "code",
        "colab": {}
      },
      "source": [
        "X_train, X_test, y_train, y_test = train_test_split(df.iloc[:,0:-1], df['Class'], test_size = 1/3, random_state = 0, shuffle = True)"
      ],
      "execution_count": 0,
      "outputs": []
    },
    {
      "cell_type": "code",
      "metadata": {
        "id": "801Q5ftUMBgQ",
        "colab_type": "code",
        "colab": {}
      },
      "source": [
        "from scipy import stats\n",
        "\n",
        "norm = stats.norm(\n",
        "    loc = X_train['V24'].mean(),\n",
        "    scale = X_train['V24'].std()\n",
        ")\n",
        "print(\"Mean:\",X_train['V24'].mean())\n",
        "print(\"Standard Deviation:\", X_train['V24'].std())\n"
      ],
      "execution_count": 0,
      "outputs": []
    },
    {
      "cell_type": "code",
      "metadata": {
        "id": "lSFk1vjne8cG",
        "colab_type": "code",
        "colab": {}
      },
      "source": [
        "import matplotlib.pyplot as plt\n",
        "import numpy as np\n",
        "fig, ax = plt.subplots(1, 1)\n",
        "x = np.linspace(norm.ppf(0.01),\n",
        "                norm.ppf(0.99), 100)\n",
        "ax.plot(x, norm.pdf(x),\n",
        "       'r-', lw=5, alpha=0.6, label='norm pdf')\n",
        "ax.hist(X_train['V24'].values, density=True, histtype='stepfilled', bins=50);\n",
        "plt.show()"
      ],
      "execution_count": 0,
      "outputs": []
    },
    {
      "cell_type": "markdown",
      "metadata": {
        "id": "qe41hNLJe8cQ",
        "colab_type": "text"
      },
      "source": [
        "We can also look at the difference in distribution for some variables between fraudulent and non-fraudulent transactions:"
      ]
    },
    {
      "cell_type": "code",
      "metadata": {
        "scrolled": false,
        "id": "YTGw4xNde8cV",
        "colab_type": "code",
        "colab": {}
      },
      "source": [
        "import matplotlib.gridspec as gridspec\n",
        "import seaborn as sns\n",
        "features=[f for f in df.columns if 'V' in f]\n",
        "nplots=np.size(features)\n",
        "plt.figure(figsize=(15,4*nplots))\n",
        "gs = gridspec.GridSpec(nplots,1)\n",
        "for i, feat in enumerate(features):\n",
        "    ax = plt.subplot(gs[i])\n",
        "    sns.distplot(X_train[feat][y_train==1], bins=30)\n",
        "    sns.distplot(X_train[feat][y_train==0],bins=30)\n",
        "    ax.legend(['fraudulent', 'non-fraudulent'],loc='best')\n",
        "    ax.set_xlabel('')\n",
        "    ax.set_title('Distribution of feature: ' + feat)"
      ],
      "execution_count": 0,
      "outputs": []
    },
    {
      "cell_type": "markdown",
      "metadata": {
        "id": "Ac1nyvCPe8ce",
        "colab_type": "text"
      },
      "source": [
        "1] Build an outlier detection model using a Mixture of Gaussians using five features with a large difference in distribution between fraudulent and non-fraudulent data. Report the precision and recall @k for k=1, 10 and 100 (on test data). Repeat this model creation process, this time selecting five features with a of your own choice, and reporting the precision and recall as above. [2]\n",
        "\n",
        "**The tables for precision and recall score are shown below each iteration**\n",
        "\n",
        "2] What features did you choose for each model? What effect it had on the model performance? [1]\n",
        "**I picked the following features:\n",
        "V4,\n",
        "V11,\n",
        "V12,\n",
        "V14,\n",
        "V16,\n",
        "V17.\n",
        "I chose these features to start with because these features had minimal histogram overlap between fraudulent versus not fraudulent data.**\n",
        "\n",
        "\n",
        "\n",
        "3] Organize your findings in a table or plot and describe your findings. What can you conclude about what models work best?[1] \n",
        "\n",
        "**Lower number of components, less overlapped distributions work best.**"
      ]
    },
    {
      "cell_type": "code",
      "metadata": {
        "id": "yClYMXloe8cg",
        "colab_type": "code",
        "colab": {}
      },
      "source": [
        "import matplotlib.pyplot as plt\n",
        "\n",
        "\n",
        "def model_selection_process(df, compare, n_components, features_selected, random_state = 0, ks_tested = [1, 5, 10, 15, 25, 50, 75, 100]):\n",
        "  fig = plt.figure(figsize=(20,15))\n",
        "  fig, ax_lst = plt.subplots(1, 2)\n",
        "  \n",
        "  final = pd.DataFrame()\n",
        "  \n",
        "  if compare == \"n\":\n",
        "    for n in n_components:\n",
        "      X_train, X_test, y_train, y_test = train_test_split(df[features_selected], df['Class'], train_size = 2/3, random_state=random_state)\n",
        "      gm = GaussianMixture(n_components = n, covariance_type = 'full', random_state=random_state)\n",
        "      gm.fit(X_train)\n",
        "      p_gm = gm.score_samples(X_test)\n",
        "      test = sort_and_predict(p_gm, np.array(y_test), K = ks_tested )\n",
        "      ax_lst[0].plot(test['Precision'], label = f\"n = {n}\")\n",
        "      ax_lst[1].plot(test['Recall'], label = f\"n = {n}\")\n",
        "      test.columns = pd.MultiIndex.from_tuples([(f\"n_components = {n}\", \"Precision\"), (f\"n_components = {n}\", \"Recall\")])\n",
        "      final = pd.concat([final,test], axis = 1)\n",
        "    ax_lst[0].legend()\n",
        "    ax_lst[1].legend()\n",
        "    ax_lst[0].title.set_text(\"Precision Versus K\")\n",
        "    ax_lst[1].title.set_text(\"Recall Versus K\")\n",
        "    ax_lst[0].set_ylim([0,1])\n",
        "    ax_lst[1].set_ylim([0,1])\n",
        "    fig.suptitle(f\"Features Selected: {features_selected}\")\n",
        "  \n",
        "  elif compare == \"features\":\n",
        "    for features in features_selected:\n",
        "      X_train, X_test, y_train, y_test = train_test_split(df[features], df['Class'], train_size = 2/3, random_state=random_state)\n",
        "      gm = GaussianMixture(n_components = n_components, covariance_type = 'full', random_state=random_state)\n",
        "      gm.fit(X_train)\n",
        "      p_gm = gm.score_samples(X_test)\n",
        "      test = sort_and_predict(p_gm, np.array(y_test), K = ks_tested)\n",
        "      ax_lst[0].plot(test['Precision'], label = f\"feature_set = {features}\")\n",
        "      ax_lst[1].plot(test['Recall'], label = f\"feature_set = {features}\")\n",
        "      test.columns = pd.MultiIndex.from_tuples([(f\"features = {features}\", \"Precision\"), (f\"features = {features}\", \"Recall\")])\n",
        "      final = pd.concat([final,test], axis = 1)\n",
        "    ax_lst[0].legend()\n",
        "    ax_lst[1].legend()\n",
        "    ax_lst[0].title.set_text(\"Precision Versus K\")\n",
        "    ax_lst[1].title.set_text(\"Recall Versus K\")\n",
        "    ax_lst[0].set_ylim([0,1])\n",
        "    ax_lst[1].set_ylim([0,1])\n",
        "    fig.suptitle(f\"N_Components Selected: {n_components}\")   \n",
        "    \n",
        "  return fig, final.loc[[1,10,100], :]"
      ],
      "execution_count": 0,
      "outputs": []
    },
    {
      "cell_type": "code",
      "metadata": {
        "id": "fbsOkenlrsCw",
        "colab_type": "code",
        "colab": {}
      },
      "source": [
        "i1 = model_selection_process(df,  compare = \"n\", n_components = [2,3,4,5,6], features_selected = ['V4','V11','V12','V14','V16','V17'])"
      ],
      "execution_count": 0,
      "outputs": []
    },
    {
      "cell_type": "code",
      "metadata": {
        "id": "DqDHOIVer4qn",
        "colab_type": "code",
        "colab": {}
      },
      "source": [
        "display(i1)"
      ],
      "execution_count": 0,
      "outputs": []
    },
    {
      "cell_type": "markdown",
      "metadata": {
        "id": "PqOim-BpsDdK",
        "colab_type": "text"
      },
      "source": [
        "Based on my first iteration, performance (in terms of precision and recall) improves as we decrease the number of components. Furthermore, it seems like n=2 performs best for precision and recall because the graph is equal to or higher than all the other choices for n_components.\n",
        "\n",
        "What I noticed in the histograms earlier was that V4 and V11 had similar distributions (fradulent data to the right of non-fradulent) while V12, V14, V16, V17 had similar distributions (fraduelent data to the left of nan-fraudulent). It would be interesting to compare the [V4, V11] pair to the [V12, V14, V16, V17] pair for the next iteration for n = 2."
      ]
    },
    {
      "cell_type": "markdown",
      "metadata": {
        "id": "-leLyYo1sIF9",
        "colab_type": "text"
      },
      "source": [
        "#### Iteration 2"
      ]
    },
    {
      "cell_type": "code",
      "metadata": {
        "id": "WC_qXot2sLpt",
        "colab_type": "code",
        "colab": {}
      },
      "source": [
        "i2 = model_selection_process(df, features_selected = [['V4', 'V11'],['V12', 'V14', 'V16', 'V17']], n_components = 2, compare = 'features')"
      ],
      "execution_count": 0,
      "outputs": []
    },
    {
      "cell_type": "code",
      "metadata": {
        "id": "1ZlHSwT4sTGK",
        "colab_type": "code",
        "colab": {}
      },
      "source": [
        "display(i2)"
      ],
      "execution_count": 0,
      "outputs": []
    },
    {
      "cell_type": "markdown",
      "metadata": {
        "id": "-GLVi-8vsXGr",
        "colab_type": "text"
      },
      "source": [
        "We notice that having fradulent data to the right of non-fradulent (V4,V11) performs almost equal to or worse than having fradulent data to the left of non-fradulent (V12, V14, V16, V17) in terms of recall for all k values tested. \n",
        "\n",
        "In terms of precision, low values of k have a much higher precision when using the V4, V11 feature set, but this changes as k increases. \n",
        "\n",
        "Also, we notice that precision is much higher than recall on average. Hence, we need to focus a bit more on choosing our model to maximize recall because we want to be able to correctly predict fradulent cases.\n",
        "\n",
        "Hence, it seems like V12, V14, V16, V17 pair would be the better option to continue with at this stage."
      ]
    },
    {
      "cell_type": "markdown",
      "metadata": {
        "id": "lOKVGiIbsdw3",
        "colab_type": "text"
      },
      "source": [
        "It would be interesting to remove V16 and V17 because they show a lot more overlap than V12 and V14. We can compare them on the next iteration for n = 2"
      ]
    },
    {
      "cell_type": "markdown",
      "metadata": {
        "id": "xUJw65E2siM7",
        "colab_type": "text"
      },
      "source": [
        "#### Iteration 3"
      ]
    },
    {
      "cell_type": "code",
      "metadata": {
        "id": "fdrWtxoZslFC",
        "colab_type": "code",
        "colab": {}
      },
      "source": [
        "i3 = model_selection_process(df, compare = \"features\", n_components = 2, features_selected = [['V12', 'V14'], ['V16', 'V17']])"
      ],
      "execution_count": 0,
      "outputs": []
    },
    {
      "cell_type": "code",
      "metadata": {
        "id": "FMxLLVbOsp5G",
        "colab_type": "code",
        "colab": {}
      },
      "source": [
        "display(i3)"
      ],
      "execution_count": 0,
      "outputs": []
    },
    {
      "cell_type": "markdown",
      "metadata": {
        "id": "IXAc_JIlsuvG",
        "colab_type": "text"
      },
      "source": [
        "V12, V14 feature set performs approximately equal to or better than the V16, V17 feature set on both precision and recall for all k values tested. Hence, we will continue with the V12, V14 feature set.\n",
        "\n",
        "We will finally test this for 1, 2, 3 and 4 components because there were some similarities in performance earlier for different values of n_components, particularly 2 or 3 components. We'll also look at 1 component because we overlooked that in the earlier iterations."
      ]
    },
    {
      "cell_type": "markdown",
      "metadata": {
        "id": "Xk_XjmkkswyX",
        "colab_type": "text"
      },
      "source": [
        "#### Iteration 4\n"
      ]
    },
    {
      "cell_type": "code",
      "metadata": {
        "id": "41tzB6Fus2xx",
        "colab_type": "code",
        "colab": {}
      },
      "source": [
        "i4 = model_selection_process(df, compare = \"n\", n_components = [1,2,3,4], features_selected = ['V12', 'V14'])"
      ],
      "execution_count": 0,
      "outputs": []
    },
    {
      "cell_type": "code",
      "metadata": {
        "id": "MWzaTaE2s78d",
        "colab_type": "code",
        "colab": {}
      },
      "source": [
        "display(i4)"
      ],
      "execution_count": 0,
      "outputs": []
    },
    {
      "cell_type": "markdown",
      "metadata": {
        "id": "tT2kW81FtDAE",
        "colab_type": "text"
      },
      "source": [
        "#### Final Model Performance"
      ]
    },
    {
      "cell_type": "code",
      "metadata": {
        "id": "nBCTNRVptF84",
        "colab_type": "code",
        "colab": {}
      },
      "source": [
        "X_train, X_test, y_train, y_test = train_test_split(df[['V12','V14']], df['Class'], train_size = 2/3, random_state=0)\n",
        "gm = GaussianMixture(n_components = 1, covariance_type = 'full', random_state=0)\n",
        "gm.fit(X_train)\n",
        "p_gm = gm.score_samples(X_test)\n",
        "test = sort_and_predict(p_gm, np.array(y_test), K = [1, 5, 10, 15, 25, 50, 75, 100])"
      ],
      "execution_count": 0,
      "outputs": []
    },
    {
      "cell_type": "code",
      "metadata": {
        "id": "0a46i6jetOP2",
        "colab_type": "code",
        "colab": {}
      },
      "source": [
        "display(test.loc[[1,10,100]])"
      ],
      "execution_count": 0,
      "outputs": []
    },
    {
      "cell_type": "markdown",
      "metadata": {
        "id": "iKXDFSOetRgb",
        "colab_type": "text"
      },
      "source": [
        "We have a recall score of 0.51 and a precision score of 0.84 for k=100\n",
        "Ultimately we can conclude that,features with lower number of components and less overlapped distributions work best."
      ]
    }
  ]
}